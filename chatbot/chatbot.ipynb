{
 "cells": [
  {
   "cell_type": "code",
   "execution_count": 1,
   "id": "initial_id",
   "metadata": {
    "collapsed": true,
    "ExecuteTime": {
     "end_time": "2023-10-20T06:13:32.784617300Z",
     "start_time": "2023-10-20T06:13:19.753067100Z"
    }
   },
   "outputs": [
    {
     "name": "stdout",
     "output_type": "stream",
     "text": [
      "Collecting konlpyNote: you may need to restart the kernel to use updated packages.\n"
     ]
    },
    {
     "name": "stderr",
     "output_type": "stream",
     "text": [
      "WARNING: You are using pip version 22.0.4; however, version 23.3 is available.\n",
      "You should consider upgrading via the 'C:\\Users\\SSAFY\\AppData\\Local\\Programs\\Python\\Python39\\python.exe -m pip install --upgrade pip' command.\n"
     ]
    },
    {
     "name": "stdout",
     "output_type": "stream",
     "text": [
      "\n",
      "  Downloading konlpy-0.6.0-py2.py3-none-any.whl (19.4 MB)\n",
      "     ---------------------------------------- 19.4/19.4 MB 5.1 MB/s eta 0:00:00\n",
      "Requirement already satisfied: numpy>=1.6 in c:\\users\\ssafy\\appdata\\local\\programs\\python\\python39\\lib\\site-packages (from konlpy) (1.25.1)\n",
      "Collecting lxml>=4.1.0\n",
      "  Downloading lxml-4.9.3-cp39-cp39-win_amd64.whl (3.9 MB)\n",
      "     ---------------------------------------- 3.9/3.9 MB 4.7 MB/s eta 0:00:00\n",
      "Collecting JPype1>=0.7.0\n",
      "  Downloading JPype1-1.4.1-cp39-cp39-win_amd64.whl (345 kB)\n",
      "     -------------------------------------- 345.2/345.2 KB 7.1 MB/s eta 0:00:00\n",
      "Requirement already satisfied: packaging in c:\\users\\ssafy\\appdata\\local\\programs\\python\\python39\\lib\\site-packages (from JPype1>=0.7.0->konlpy) (23.2)\n",
      "Installing collected packages: lxml, JPype1, konlpy\n",
      "Successfully installed JPype1-1.4.1 konlpy-0.6.0 lxml-4.9.3\n"
     ]
    }
   ],
   "source": [
    "pip install konlpy"
   ]
  },
  {
   "cell_type": "code",
   "execution_count": 2,
   "outputs": [],
   "source": [
    "from konlpy.tag import Komoran"
   ],
   "metadata": {
    "collapsed": false,
    "ExecuteTime": {
     "end_time": "2023-10-20T06:13:50.395680900Z",
     "start_time": "2023-10-20T06:13:50.177684100Z"
    }
   },
   "id": "5ab9d3b19d2e3b33"
  },
  {
   "cell_type": "code",
   "execution_count": 3,
   "outputs": [
    {
     "name": "stdout",
     "output_type": "stream",
     "text": [
      "[('이번', 'NNG'), ('주말', 'NNP'), ('에', 'JKB'), ('어디', 'NP'), ('가', 'VV'), ('기', 'ETN'), ('로', 'JKB'), ('하', 'VV'), ('았', 'EP'), ('지', 'EC')]\n"
     ]
    }
   ],
   "source": [
    "komoran = Komoran()\n",
    "text = \"이번 주말에 어디 가기로 했지\"\n",
    "pos = komoran.pos(text)\n",
    "print(pos)"
   ],
   "metadata": {
    "collapsed": false,
    "ExecuteTime": {
     "end_time": "2023-10-20T06:15:17.130576200Z",
     "start_time": "2023-10-20T06:15:14.860112200Z"
    }
   },
   "id": "3cdf320073ff5b75"
  },
  {
   "cell_type": "code",
   "execution_count": 4,
   "outputs": [],
   "source": [
    "import pandas as pd"
   ],
   "metadata": {
    "collapsed": false,
    "ExecuteTime": {
     "end_time": "2023-10-20T07:42:45.691315500Z",
     "start_time": "2023-10-20T07:42:45.241176700Z"
    }
   },
   "id": "7cf884d2950734ca"
  },
  {
   "cell_type": "code",
   "execution_count": null,
   "outputs": [],
   "source": [],
   "metadata": {
    "collapsed": false
   },
   "id": "7e79a25f9588dd8b"
  }
 ],
 "metadata": {
  "kernelspec": {
   "display_name": "Python 3",
   "language": "python",
   "name": "python3"
  },
  "language_info": {
   "codemirror_mode": {
    "name": "ipython",
    "version": 2
   },
   "file_extension": ".py",
   "mimetype": "text/x-python",
   "name": "python",
   "nbconvert_exporter": "python",
   "pygments_lexer": "ipython2",
   "version": "2.7.6"
  }
 },
 "nbformat": 4,
 "nbformat_minor": 5
}
