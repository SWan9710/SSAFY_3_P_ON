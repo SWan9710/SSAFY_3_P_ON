{
 "cells": [
  {
   "cell_type": "code",
   "execution_count": 1,
   "id": "initial_id",
   "metadata": {
    "collapsed": true,
    "ExecuteTime": {
     "end_time": "2023-11-14T03:16:50.535131700Z",
     "start_time": "2023-11-14T03:16:46.659150500Z"
    }
   },
   "outputs": [],
   "source": [
    "from langchain.llms import OpenAI\n",
    "from langchain.chat_models import ChatOpenAI\n",
    "from langchain.agents.agent_types import AgentType\n",
    "import pandas as pd\n",
    "from langchain_experimental.agents.agent_toolkits import create_csv_agent"
   ]
  },
  {
   "cell_type": "code",
   "execution_count": 2,
   "outputs": [],
   "source": [
    "agent = create_csv_agent(\n",
    "    ChatOpenAI(temperature=0, model=\"gpt-3.5-turbo-0613\"),\n",
    "    \"../data/cal_1.csv\",\n",
    "    verbose=True,\n",
    "    agent_type=AgentType.OPENAI_FUNCTIONS,\n",
    ")"
   ],
   "metadata": {
    "collapsed": false,
    "ExecuteTime": {
     "end_time": "2023-11-14T03:16:52.745247700Z",
     "start_time": "2023-11-14T03:16:52.705694200Z"
    }
   },
   "id": "fbdd54e90452e574"
  },
  {
   "cell_type": "code",
   "execution_count": 5,
   "outputs": [
    {
     "name": "stdout",
     "output_type": "stream",
     "text": [
      "\n",
      "\n",
      "\u001B[1m> Entering new AgentExecutor chain...\u001B[0m\n",
      "\u001B[32;1m\u001B[1;3m\n",
      "Invoking: `python_repl_ast` with `{'query': \"import pandas as pd\\nimport datetime\\n\\n# Filter rows for this week's Saturday\\ntoday = datetime.date.today()\\nsaturday = today + datetime.timedelta((5-today.weekday()) % 7)\\nfiltered_df = df[df['calendar_start_date'].dt.date == saturday]\\n\\n# Convert dataframe to JSON\\njson_result = filtered_df.to_json(orient='records')\\njson_result\"}`\n",
      "\n",
      "\n",
      "\u001B[0m\u001B[36;1m\u001B[1;3m[{\"userId\":1,\"calendar_title\":\"3\\uc8fc \\ud68c\\uc2dd\",\"calendar_place\":\"\\uc11c\\uba74\",\"calendar_start_date\":1700265600000,\"calendar_end_date\":\"2023-11-18\"},{\"userId\":1,\"calendar_title\":\"3\\uc8fc \\ud68c\\uc2dd\",\"calendar_place\":\"\\uc11c\\uba74\",\"calendar_start_date\":1700265600000,\"calendar_end_date\":\"2023-11-18\"}]\u001B[0m\u001B[32;1m\u001B[1;3m이번 주 토요일 일정은 다음과 같습니다:\n",
      "\n",
      "```json\n",
      "[\n",
      "  {\n",
      "    \"userId\": 1,\n",
      "    \"calendar_title\": \"3주 회식\",\n",
      "    \"calendar_place\": \"서면\",\n",
      "    \"calendar_start_date\": 1700265600000,\n",
      "    \"calendar_end_date\": \"2023-11-18\"\n",
      "  },\n",
      "  {\n",
      "    \"userId\": 1,\n",
      "    \"calendar_title\": \"3주 회식\",\n",
      "    \"calendar_place\": \"서면\",\n",
      "    \"calendar_start_date\": 1700265600000,\n",
      "    \"calendar_end_date\": \"2023-11-18\"\n",
      "  }\n",
      "]\n",
      "```\n",
      "\n",
      "위 결과는 JSON 형식으로 출력되었습니다.\u001B[0m\n",
      "\n",
      "\u001B[1m> Finished chain.\u001B[0m\n"
     ]
    }
   ],
   "source": [
    "res = agent.run(\"이번 주 토요일 일정 알려줘, 응답 결과는 json 형식으로 출력해줘\")"
   ],
   "metadata": {
    "collapsed": false,
    "ExecuteTime": {
     "end_time": "2023-11-14T03:19:42.543075300Z",
     "start_time": "2023-11-14T03:18:59.416291100Z"
    }
   },
   "id": "7241dada057ea355"
  },
  {
   "cell_type": "code",
   "execution_count": 6,
   "outputs": [
    {
     "name": "stdout",
     "output_type": "stream",
     "text": [
      "이번 주 토요일 일정은 다음과 같습니다:\n",
      "\n",
      "```json\n",
      "[\n",
      "  {\n",
      "    \"userId\": 1,\n",
      "    \"calendar_title\": \"3주 회식\",\n",
      "    \"calendar_place\": \"서면\",\n",
      "    \"calendar_start_date\": 1700265600000,\n",
      "    \"calendar_end_date\": \"2023-11-18\"\n",
      "  },\n",
      "  {\n",
      "    \"userId\": 1,\n",
      "    \"calendar_title\": \"3주 회식\",\n",
      "    \"calendar_place\": \"서면\",\n",
      "    \"calendar_start_date\": 1700265600000,\n",
      "    \"calendar_end_date\": \"2023-11-18\"\n",
      "  }\n",
      "]\n",
      "```\n",
      "\n",
      "위 결과는 JSON 형식으로 출력되었습니다.\n"
     ]
    }
   ],
   "source": [
    "print(res)"
   ],
   "metadata": {
    "collapsed": false,
    "ExecuteTime": {
     "end_time": "2023-11-14T03:19:42.603439600Z",
     "start_time": "2023-11-14T03:19:42.549073700Z"
    }
   },
   "id": "a9ee15100640ed6"
  }
 ],
 "metadata": {
  "kernelspec": {
   "display_name": "Python 3",
   "language": "python",
   "name": "python3"
  },
  "language_info": {
   "codemirror_mode": {
    "name": "ipython",
    "version": 2
   },
   "file_extension": ".py",
   "mimetype": "text/x-python",
   "name": "python",
   "nbconvert_exporter": "python",
   "pygments_lexer": "ipython2",
   "version": "2.7.6"
  }
 },
 "nbformat": 4,
 "nbformat_minor": 5
}
