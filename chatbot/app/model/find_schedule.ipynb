{
 "cells": [
  {
   "cell_type": "markdown",
   "source": [
    "# csv Agent로 자동으로 일정 찾기"
   ],
   "metadata": {
    "collapsed": false
   },
   "id": "fc19a0752e32fb4c"
  },
  {
   "cell_type": "code",
   "execution_count": 1,
   "outputs": [],
   "source": [
    "from langchain.llms import OpenAI\n",
    "from langchain.chat_models import ChatOpenAI\n",
    "from langchain.agents.agent_types import AgentType\n",
    "import pandas as pd\n",
    "from langchain_experimental.agents.agent_toolkits import create_csv_agent"
   ],
   "metadata": {
    "collapsed": false,
    "ExecuteTime": {
     "start_time": "2023-11-14T03:16:46.659150500Z"
    }
   },
   "id": "initial_id"
  },
  {
   "cell_type": "code",
   "execution_count": 2,
   "outputs": [],
   "source": [
    "agent = create_csv_agent(\n",
    "    ChatOpenAI(temperature=0, model=\"gpt-3.5-turbo-0613\"),\n",
    "    \"../data/cal_1.csv\",\n",
    "    verbose=True,\n",
    "    agent_type=AgentType.OPENAI_FUNCTIONS,\n",
    ")"
   ],
   "metadata": {
    "collapsed": false,
    "ExecuteTime": {
     "end_time": "2023-11-14T03:16:52.745247700Z",
     "start_time": "2023-11-14T03:16:52.705694200Z"
    }
   },
   "id": "fbdd54e90452e574"
  },
  {
   "cell_type": "code",
   "execution_count": 5,
   "outputs": [
    {
     "name": "stdout",
     "output_type": "stream",
     "text": [
      "\n",
      "\n",
      "\u001B[1m> Entering new AgentExecutor chain...\u001B[0m\n",
      "\u001B[32;1m\u001B[1;3m\n",
      "Invoking: `python_repl_ast` with `{'query': \"import pandas as pd\\nimport datetime\\n\\n# Filter rows for this week's Saturday\\ntoday = datetime.date.today()\\nsaturday = today + datetime.timedelta((5-today.weekday()) % 7)\\nfiltered_df = df[df['calendar_start_date'].dt.date == saturday]\\n\\n# Convert dataframe to JSON\\njson_result = filtered_df.to_json(orient='records')\\njson_result\"}`\n",
      "\n",
      "\n",
      "\u001B[0m\u001B[36;1m\u001B[1;3m[{\"userId\":1,\"calendar_title\":\"3\\uc8fc \\ud68c\\uc2dd\",\"calendar_place\":\"\\uc11c\\uba74\",\"calendar_start_date\":1700265600000,\"calendar_end_date\":\"2023-11-18\"},{\"userId\":1,\"calendar_title\":\"3\\uc8fc \\ud68c\\uc2dd\",\"calendar_place\":\"\\uc11c\\uba74\",\"calendar_start_date\":1700265600000,\"calendar_end_date\":\"2023-11-18\"}]\u001B[0m\u001B[32;1m\u001B[1;3m이번 주 토요일 일정은 다음과 같습니다:\n",
      "\n",
      "```json\n",
      "[\n",
      "  {\n",
      "    \"userId\": 1,\n",
      "    \"calendar_title\": \"3주 회식\",\n",
      "    \"calendar_place\": \"서면\",\n",
      "    \"calendar_start_date\": 1700265600000,\n",
      "    \"calendar_end_date\": \"2023-11-18\"\n",
      "  },\n",
      "  {\n",
      "    \"userId\": 1,\n",
      "    \"calendar_title\": \"3주 회식\",\n",
      "    \"calendar_place\": \"서면\",\n",
      "    \"calendar_start_date\": 1700265600000,\n",
      "    \"calendar_end_date\": \"2023-11-18\"\n",
      "  }\n",
      "]\n",
      "```\n",
      "\n",
      "위 결과는 JSON 형식으로 출력되었습니다.\u001B[0m\n",
      "\n",
      "\u001B[1m> Finished chain.\u001B[0m\n"
     ]
    }
   ],
   "source": [
    "res = agent.run(\"이번 주 토요일 일정 알려줘, 응답 결과는 json 형식으로 출력해줘\")"
   ],
   "metadata": {
    "collapsed": false,
    "ExecuteTime": {
     "end_time": "2023-11-14T03:19:42.543075300Z",
     "start_time": "2023-11-14T03:18:59.416291100Z"
    }
   },
   "id": "7241dada057ea355"
  },
  {
   "cell_type": "code",
   "execution_count": 6,
   "outputs": [
    {
     "name": "stdout",
     "output_type": "stream",
     "text": [
      "이번 주 토요일 일정은 다음과 같습니다:\n",
      "\n",
      "```json\n",
      "[\n",
      "  {\n",
      "    \"userId\": 1,\n",
      "    \"calendar_title\": \"3주 회식\",\n",
      "    \"calendar_place\": \"서면\",\n",
      "    \"calendar_start_date\": 1700265600000,\n",
      "    \"calendar_end_date\": \"2023-11-18\"\n",
      "  },\n",
      "  {\n",
      "    \"userId\": 1,\n",
      "    \"calendar_title\": \"3주 회식\",\n",
      "    \"calendar_place\": \"서면\",\n",
      "    \"calendar_start_date\": 1700265600000,\n",
      "    \"calendar_end_date\": \"2023-11-18\"\n",
      "  }\n",
      "]\n",
      "```\n",
      "\n",
      "위 결과는 JSON 형식으로 출력되었습니다.\n"
     ]
    }
   ],
   "source": [
    "print(res)"
   ],
   "metadata": {
    "collapsed": false,
    "ExecuteTime": {
     "end_time": "2023-11-14T03:19:42.603439600Z",
     "start_time": "2023-11-14T03:19:42.549073700Z"
    }
   },
   "id": "a9ee15100640ed6"
  },
  {
   "cell_type": "markdown",
   "source": [
    "# 날짜만 변환해서 직접 찾기"
   ],
   "metadata": {
    "collapsed": false
   },
   "id": "ff9eafb702a897fa"
  },
  {
   "cell_type": "code",
   "execution_count": 7,
   "outputs": [],
   "source": [
    "from langchain.chat_models import ChatOpenAI\n",
    "from langchain.chains import create_extraction_chain\n",
    "from langchain.schema import HumanMessage\n",
    "\n",
    "def to_datetime(inp):\n",
    "    \n",
    "    chat = ChatOpenAI()\n",
    "    output = chat(\n",
    "            [\n",
    "                HumanMessage(\n",
    "                    content=f\"\"\"\n",
    "                        Convert the phrase \"{inp}\" to a date in YYYY-MM-DD format, considering today as the reference.\n",
    "                        If today's date is 2023-11-14,\n",
    "                        \n",
    "                        Input: 오늘 \n",
    "                        Output: 2023-11-14\n",
    "                        \n",
    "                        Input: 이번 주 일요일  \n",
    "                        Output: 2023-11-19\n",
    "                        \n",
    "                        Input: 다움 주 월요일  \n",
    "                        Output: 2023-11-20\n",
    "                        \n",
    "                        Input: 이번 주 \n",
    "                        Output:2023-11-14, 2023-11-15, 2023-11-16, 2023-11-17, 2023-11-18, 2023-11-19, 2023-11-20\n",
    "                        \n",
    "                        Input: 다음 주 \n",
    "                        Output:2023-11-20, 2023-11-21, 2023-11-22, 2023-11-23, 2023-11-24, 2023-11-25, 2023-11-26\n",
    "                        \n",
    "                        Input: {inp}\n",
    "                        Output:\"\"\"\n",
    "                                )\n",
    "            ]\n",
    "    )\n",
    "    \n",
    "    return output.content"
   ],
   "metadata": {
    "collapsed": false,
    "ExecuteTime": {
     "end_time": "2023-11-14T03:33:55.194089400Z",
     "start_time": "2023-11-14T03:33:55.183089700Z"
    }
   },
   "id": "a558e40e7782fd68"
  },
  {
   "cell_type": "code",
   "execution_count": 15,
   "outputs": [],
   "source": [
    "date_res = to_datetime('토요일 일정 알려줘')"
   ],
   "metadata": {
    "collapsed": false,
    "ExecuteTime": {
     "end_time": "2023-11-14T03:35:20.408980600Z",
     "start_time": "2023-11-14T03:35:06.307131100Z"
    }
   },
   "id": "427d98d700da8def"
  },
  {
   "cell_type": "code",
   "execution_count": 18,
   "outputs": [],
   "source": [
    "date_list = date_res.split(', ')"
   ],
   "metadata": {
    "collapsed": false,
    "ExecuteTime": {
     "end_time": "2023-11-14T03:35:33.013861Z",
     "start_time": "2023-11-14T03:35:33.006867Z"
    }
   },
   "id": "dfef64913e71d7f6"
  },
  {
   "cell_type": "code",
   "execution_count": 22,
   "outputs": [
    {
     "name": "stdout",
     "output_type": "stream",
     "text": [
      "   userId calendar_title calendar_place calendar_start_date calendar_end_date\n",
      "0       1          3주 회식             서면          2023-11-18        2023-11-18\n",
      "1       1          3주 회식             서면          2023-11-18        2023-11-18\n"
     ]
    }
   ],
   "source": [
    "import pandas as pd\n",
    "\n",
    "# CSV 파일 경로\n",
    "csv_file_path = \"../data/cal_1.csv\"\n",
    "\n",
    "# CSV 파일을 DataFrame으로 읽기\n",
    "df = pd.read_csv(csv_file_path)\n",
    "\n",
    "# cal_start_date가 target_dates에 있는 행만 추출\n",
    "filtered_df = df[df['calendar_start_date'].isin(date_list)]\n",
    "\n",
    "# 결과 출력\n",
    "print(filtered_df)\n"
   ],
   "metadata": {
    "collapsed": false,
    "ExecuteTime": {
     "end_time": "2023-11-14T03:35:48.060484600Z",
     "start_time": "2023-11-14T03:35:48.046493400Z"
    }
   },
   "id": "de13075b0509e5d5"
  }
 ],
 "metadata": {
  "kernelspec": {
   "display_name": "Python 3",
   "language": "python",
   "name": "python3"
  },
  "language_info": {
   "codemirror_mode": {
    "name": "ipython",
    "version": 2
   },
   "file_extension": ".py",
   "mimetype": "text/x-python",
   "name": "python",
   "nbconvert_exporter": "python",
   "pygments_lexer": "ipython2",
   "version": "2.7.6"
  }
 },
 "nbformat": 4,
 "nbformat_minor": 5
}
