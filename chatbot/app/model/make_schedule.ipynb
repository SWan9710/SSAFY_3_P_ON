{
 "cells": [
  {
   "cell_type": "code",
   "execution_count": 1,
   "outputs": [],
   "source": [
    "from langchain.chat_models import ChatOpenAI\n",
    "from langchain.chains import create_extraction_chain\n",
    "from datetime import datetime"
   ],
   "metadata": {
    "collapsed": false,
    "ExecuteTime": {
     "end_time": "2023-11-10T02:25:08.438583400Z",
     "start_time": "2023-11-10T02:25:07.115524700Z"
    }
   },
   "id": "e9b0fdc302790c7b"
  },
  {
   "cell_type": "code",
   "execution_count": 2,
   "outputs": [],
   "source": [
    "schema = {\n",
    "    \"properties\": {\n",
    "        \"calendar_title\": {\"type\": \"string\"},\n",
    "        \"calendar_place\": {\"type\": \"string\"},\n",
    "        \"calendar_start_date\": {\"type\": \"string\"},\n",
    "        \"calendar_end_date\": {\"type\": \"string\"}\n",
    "    },\n",
    "    \"required\": [\"user_id\", \"calendar_title\", \"calendar_start_date\"],\n",
    "}\n"
   ],
   "metadata": {
    "collapsed": false,
    "ExecuteTime": {
     "end_time": "2023-11-10T02:25:22.351084500Z",
     "start_time": "2023-11-10T02:25:22.336848100Z"
    }
   },
   "id": "5b1af9120825f664"
  },
  {
   "cell_type": "code",
   "execution_count": 12,
   "outputs": [],
   "source": [
    "# Input\n",
    "inp = \"\"\"\"이번 주 토요일에 서면에서 3차 회식이야.\"\"\"\n",
    "\n",
    "# Run chain\n",
    "llm = ChatOpenAI(temperature=0, model=\"gpt-3.5-turbo\")\n",
    "chain = create_extraction_chain(schema, llm)\n",
    "res = chain.run(inp)"
   ],
   "metadata": {
    "collapsed": false,
    "ExecuteTime": {
     "end_time": "2023-11-10T02:33:06.551423300Z",
     "start_time": "2023-11-10T02:33:01.859614200Z"
    }
   },
   "id": "e3f9d2493352504f"
  },
  {
   "cell_type": "code",
   "execution_count": 13,
   "outputs": [
    {
     "name": "stdout",
     "output_type": "stream",
     "text": [
      "[{'calendar_title': '3차 회식', 'calendar_place': '서면', 'calendar_start_date': '이번 주 토요일', 'calendar_end_date': ''}]\n"
     ]
    }
   ],
   "source": [
    "print(res)"
   ],
   "metadata": {
    "collapsed": false,
    "ExecuteTime": {
     "end_time": "2023-11-10T02:33:08.736238700Z",
     "start_time": "2023-11-10T02:33:08.704875700Z"
    }
   },
   "id": "f6fc9e11b627e872"
  },
  {
   "cell_type": "code",
   "execution_count": 21,
   "outputs": [
    {
     "name": "stdout",
     "output_type": "stream",
     "text": [
      "일요일에 해당하는 다음 날짜: 2023-11-12\n"
     ]
    }
   ],
   "source": [
    "from datetime import datetime, timedelta\n",
    "\n",
    "def find_next_weekday(start_date, target_weekday):\n",
    "    days_until_target = (target_weekday - start_date.weekday() + 7) % 7\n",
    "    return start_date + timedelta(days=days_until_target)\n",
    "\n",
    "def find_next_requested_weekday(requested_weekday):\n",
    "    today = datetime.now()\n",
    "\n",
    "    # 요일을 숫자로 매핑 (월요일: 0, 일요일: 6)\n",
    "    weekdays = {'월요일': 0, '화요일': 1, '수요일': 2, '목요일': 3, '금요일': 4, '토요일': 5, '일요일': 6}\n",
    "\n",
    "    # 사용자가 입력한 요일에 해당하는 날짜 계산\n",
    "    target_weekday = weekdays.get(requested_weekday)\n",
    "    if target_weekday is not None:\n",
    "        next_requested_weekday = find_next_weekday(today, target_weekday)\n",
    "        return next_requested_weekday.strftime('%Y-%m-%d')\n",
    "    else:\n",
    "        return \"올바른 요일을 입력하세요.\"\n",
    "\n",
    "# 테스트\n",
    "input_day = \"일요일\"  # 사용자가 입력한 요일\n",
    "next_requested_weekday_date = find_next_requested_weekday(input_day)\n",
    "\n",
    "print(f\"{input_day}에 해당하는 다음 날짜: {next_requested_weekday_date}\")\n"
   ],
   "metadata": {
    "collapsed": false,
    "ExecuteTime": {
     "end_time": "2023-11-10T02:40:58.703142Z",
     "start_time": "2023-11-10T02:40:58.684925900Z"
    }
   },
   "id": "993e85f848d2dc07"
  }
 ],
 "metadata": {
  "kernelspec": {
   "display_name": "Python 3",
   "language": "python",
   "name": "python3"
  },
  "language_info": {
   "codemirror_mode": {
    "name": "ipython",
    "version": 2
   },
   "file_extension": ".py",
   "mimetype": "text/x-python",
   "name": "python",
   "nbconvert_exporter": "python",
   "pygments_lexer": "ipython2",
   "version": "2.7.6"
  }
 },
 "nbformat": 4,
 "nbformat_minor": 5
}
