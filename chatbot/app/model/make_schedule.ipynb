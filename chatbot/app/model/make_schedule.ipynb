{
 "cells": [
  {
   "cell_type": "code",
   "execution_count": 103,
   "outputs": [],
   "source": [
    "def to_datetime(inp):\n",
    "    \n",
    "    from langchain.schema import HumanMessage\n",
    "    from langchain.chat_models import ChatOpenAI\n",
    "    from datetime import datetime\n",
    "    \n",
    "    chat = ChatOpenAI()\n",
    "    output = chat(\n",
    "            [\n",
    "                HumanMessage(\n",
    "                    content=f\"\"\"\n",
    "                        Convert the phrase \"{inp}\" to a date in YYYY-MM-DD format.\n",
    "                        \n",
    "                        Input: 이번 주 일요일  \n",
    "                        Output: 2023-11-12\n",
    "                        \n",
    "                        Input: {inp}\n",
    "                        Output:\"\"\"\n",
    "                                )\n",
    "            ]\n",
    "    )\n",
    "    \n",
    "    return output.content"
   ],
   "metadata": {
    "collapsed": false,
    "ExecuteTime": {
     "end_time": "2023-11-10T06:20:27.584799500Z",
     "start_time": "2023-11-10T06:20:27.569679400Z"
    }
   },
   "id": "34182efb7af00c33"
  },
  {
   "cell_type": "code",
   "execution_count": 104,
   "outputs": [],
   "source": [
    "def UserMessage_to_cal(userMessage):\n",
    "    \n",
    "    from langchain.chat_models import ChatOpenAI\n",
    "    from langchain.chains import create_extraction_chain\n",
    "    \n",
    "    schema = {\n",
    "    \"properties\": {\n",
    "        \"calendar_title\": {\"type\": \"string\"},\n",
    "        \"calendar_place\": {\"type\": \"string\"},\n",
    "        \"calendar_start_date\": {\"type\": \"string\"},\n",
    "        \"calendar_end_date\": {\"type\": \"string\"}\n",
    "    },\n",
    "    \"required\": [\"user_id\", \"calendar_title\", \"calendar_start_date\"],\n",
    "    }\n",
    "    \n",
    "    llm = ChatOpenAI(temperature=0, model=\"gpt-3.5-turbo\")\n",
    "    chain = create_extraction_chain(schema, llm)\n",
    "    res = chain.run(userMessage)\n",
    "    res = res[0]\n",
    "    \n",
    "    if res['calendar_start_date']:\n",
    "        res['calendar_start_date'] = to_datetime(res['calendar_start_date'])\n",
    "    if res['calendar_end_date']:\n",
    "        res['calendar_end_date'] = to_datetime(res['calendar_end_date'])\n",
    "    \n",
    "    return res"
   ],
   "metadata": {
    "collapsed": false,
    "ExecuteTime": {
     "end_time": "2023-11-10T06:20:29.180484400Z",
     "start_time": "2023-11-10T06:20:29.162451100Z"
    }
   },
   "id": "3ee637d9320ceddf"
  },
  {
   "cell_type": "code",
   "execution_count": 105,
   "outputs": [
    {
     "name": "stdout",
     "output_type": "stream",
     "text": [
      "{'calendar_title': '생일파티', 'calendar_place': '해운대', 'calendar_start_date': '2023-11-15', 'calendar_end_date': ''}\n"
     ]
    }
   ],
   "source": [
    "print(UserMessage_to_cal(\"다음 주 수요일에 해운대에서 생일파티야\"))\n",
    "from datetime import datetime"
   ],
   "metadata": {
    "collapsed": false,
    "ExecuteTime": {
     "end_time": "2023-11-10T06:21:10.909887Z",
     "start_time": "2023-11-10T06:21:04.196962Z"
    }
   },
   "id": "e9b0fdc302790c7b"
  }
 ],
 "metadata": {
  "kernelspec": {
   "display_name": "Python 3",
   "language": "python",
   "name": "python3"
  },
  "language_info": {
   "codemirror_mode": {
    "name": "ipython",
    "version": 2
   },
   "file_extension": ".py",
   "mimetype": "text/x-python",
   "name": "python",
   "nbconvert_exporter": "python",
   "pygments_lexer": "ipython2",
   "version": "2.7.6"
  }
 },
 "nbformat": 4,
 "nbformat_minor": 5
}
